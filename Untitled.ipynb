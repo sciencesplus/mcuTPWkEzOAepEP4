{
 "cells": [
  {
   "cell_type": "code",
   "execution_count": 4,
   "id": "f0e7c62b-1116-4261-b910-7769d15ad0e6",
   "metadata": {},
   "outputs": [],
   "source": [
    "import pandas as pd\n",
    "import numpy as np\n",
    "import pickle\n",
    "import streamlit as st\n",
    "\n",
    "#clf_file = open('knn_5.pkl', 'rb')\n",
    "clf_file = open('Customer-happy-clf.pkl', 'rb')\n",
    "classifier = pickle.load(clf_file)\n",
    "\n",
    "def Happy_Customer_prediction(X3,X6,X5,X1):\n",
    "#def Happy_Customer_prediction(X1,X2,X3,X4,X5,X6):\n",
    "    '''Predict Customer satisfaction based on features values'''\n",
    "    \n",
    "    prediction = classifier.predict([[X3,X6,X5,X1]])\n",
    "    #prediction = classifier.predict([[X1,X2,X3,X4,X5,X6]])\n",
    "    print(prediction)\n",
    "    \n",
    "    return \"The predicted value is\" + str(prediction)\n",
    "\n",
    "def main():\n",
    "    st.title(\"Customer Satisfaction Prediction App\")\n",
    "    X1 = st.number_input(\"X1\",1, 5)\n",
    "    #X2 = st.number_input(\"X2\",1, 5)\n",
    "    X3 = st.number_input(\"X3\",1, 5)\n",
    "    #X4 = st.number_input(\"X4\",1, 5)\n",
    "    X5 = st.number_input(\"X5\",1, 5)\n",
    "    X6 = st.number_input(\"X6\",0, 5)\n",
    "    \n",
    "    result= \"\"\n",
    "    \n",
    "    if st.button(\"Predict\"):\n",
    "        result = Happy_Customer_prediction(X3,X6,X5,X1)\n",
    "        #result = Happy_Customer_prediction(X1,X2,X3,X4,X5,X6)\n",
    "        if result == 0:\n",
    "            st.success(\"The customer sentiment prediction is: Unhappy Customer\")\n",
    "        else:\n",
    "            st.success(\"The customer sentiment prediction is: hjhjhjhjh\")\n",
    "    \n",
    "    \n",
    "\n",
    "        \n",
    "if __name__=='__main__':\n",
    "    main()"
   ]
  },
  {
   "cell_type": "code",
   "execution_count": null,
   "id": "68c139d6-47bd-4327-bd5b-3323e0f44b21",
   "metadata": {},
   "outputs": [],
   "source": []
  }
 ],
 "metadata": {
  "kernelspec": {
   "display_name": "Python 3 (ipykernel)",
   "language": "python",
   "name": "python3"
  },
  "language_info": {
   "codemirror_mode": {
    "name": "ipython",
    "version": 3
   },
   "file_extension": ".py",
   "mimetype": "text/x-python",
   "name": "python",
   "nbconvert_exporter": "python",
   "pygments_lexer": "ipython3",
   "version": "3.11.5"
  }
 },
 "nbformat": 4,
 "nbformat_minor": 5
}
